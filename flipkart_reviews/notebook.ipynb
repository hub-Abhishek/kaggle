{
 "cells": [
  {
   "cell_type": "code",
   "execution_count": 1,
   "metadata": {},
   "outputs": [],
   "source": [
    "import pandas as pd\n",
    "import numpy as np"
   ]
  },
  {
   "cell_type": "code",
   "execution_count": 2,
   "metadata": {},
   "outputs": [],
   "source": [
    "# !pip install contractions\n",
    "\n",
    "# import nltk\n",
    "# nltk.download('stopwords')\n",
    "# nltk.download('wordnet')"
   ]
  },
  {
   "cell_type": "code",
   "execution_count": 3,
   "metadata": {},
   "outputs": [],
   "source": [
    "import contractions\n",
    "import re\n",
    "import torch\n",
    "from nltk.corpus import stopwords\n",
    "from nltk.stem.wordnet import WordNetLemmatizer\n",
    "\n",
    "from sklearn.model_selection import train_test_split"
   ]
  },
  {
   "cell_type": "code",
   "execution_count": 4,
   "metadata": {},
   "outputs": [
    {
     "data": {
      "text/html": [
       "<div>\n",
       "<style scoped>\n",
       "    .dataframe tbody tr th:only-of-type {\n",
       "        vertical-align: middle;\n",
       "    }\n",
       "\n",
       "    .dataframe tbody tr th {\n",
       "        vertical-align: top;\n",
       "    }\n",
       "\n",
       "    .dataframe thead th {\n",
       "        text-align: right;\n",
       "    }\n",
       "</style>\n",
       "<table border=\"1\" class=\"dataframe\">\n",
       "  <thead>\n",
       "    <tr style=\"text-align: right;\">\n",
       "      <th></th>\n",
       "      <th>review</th>\n",
       "      <th>rating</th>\n",
       "    </tr>\n",
       "  </thead>\n",
       "  <tbody>\n",
       "    <tr>\n",
       "      <th>0</th>\n",
       "      <td>It was nice produt. I like it's design a lot. ...</td>\n",
       "      <td>5</td>\n",
       "    </tr>\n",
       "    <tr>\n",
       "      <th>1</th>\n",
       "      <td>awesome sound....very pretty to see this nd th...</td>\n",
       "      <td>5</td>\n",
       "    </tr>\n",
       "    <tr>\n",
       "      <th>2</th>\n",
       "      <td>awesome sound quality. pros 7-8 hrs of battery...</td>\n",
       "      <td>4</td>\n",
       "    </tr>\n",
       "    <tr>\n",
       "      <th>3</th>\n",
       "      <td>I think it is such a good product not only as ...</td>\n",
       "      <td>5</td>\n",
       "    </tr>\n",
       "    <tr>\n",
       "      <th>4</th>\n",
       "      <td>awesome bass sound quality very good bettary l...</td>\n",
       "      <td>5</td>\n",
       "    </tr>\n",
       "  </tbody>\n",
       "</table>\n",
       "</div>"
      ],
      "text/plain": [
       "                                              review  rating\n",
       "0  It was nice produt. I like it's design a lot. ...       5\n",
       "1  awesome sound....very pretty to see this nd th...       5\n",
       "2  awesome sound quality. pros 7-8 hrs of battery...       4\n",
       "3  I think it is such a good product not only as ...       5\n",
       "4  awesome bass sound quality very good bettary l...       5"
      ]
     },
     "execution_count": 4,
     "metadata": {},
     "output_type": "execute_result"
    }
   ],
   "source": [
    "data = pd.read_csv('data.csv')\n",
    "data.head()"
   ]
  },
  {
   "cell_type": "code",
   "execution_count": 5,
   "metadata": {},
   "outputs": [],
   "source": [
    "lem = WordNetLemmatizer()\n",
    "\n",
    "def preprocess(x):\n",
    "    x = x.replace(\"READ MORE\",\"\")\n",
    "    x = x.encode('ascii','ignore')\n",
    "    x = x.decode()\n",
    "    x = x.lower()\n",
    "    x = contractions.fix(x)\n",
    "    x = ' '.join([word for word in x.split() if not word in set(stopwords.words('english'))])\n",
    "    x =  re.sub('[^a-zA-Z0-9]', ' ', x)\n",
    "    x = ' '.join(x.split())\n",
    "    x = lem.lemmatize(x)\n",
    "    return x"
   ]
  },
  {
   "cell_type": "code",
   "execution_count": 6,
   "metadata": {},
   "outputs": [
    {
     "data": {
      "text/plain": [
       "0       nice produt like design lot easy carry and loo...\n",
       "1       awesome sound very pretty see nd sound quality...\n",
       "2       awesome sound quality pros 7 8 hrs battery lif...\n",
       "3       think good product per quality also design qui...\n",
       "4       awesome bass sound quality good bettary long l...\n",
       "                              ...                        \n",
       "9971                                                 good\n",
       "9972                       everything amazimg built light\n",
       "9973                                                 good\n",
       "9974                             best headphone ever used\n",
       "9975                                                 nice\n",
       "Name: edited_review, Length: 9976, dtype: object"
      ]
     },
     "execution_count": 6,
     "metadata": {},
     "output_type": "execute_result"
    }
   ],
   "source": [
    "data['edited_review'] = data['review'].apply(preprocess)\n",
    "data.edited_review"
   ]
  },
  {
   "attachments": {},
   "cell_type": "markdown",
   "metadata": {},
   "source": [
    "### Train test split"
   ]
  },
  {
   "cell_type": "code",
   "execution_count": 7,
   "metadata": {},
   "outputs": [],
   "source": [
    "X = list(data['edited_review'].values)\n",
    "y = pd.get_dummies(data['rating']).values\n",
    "\n",
    "X_train, X_test, y_train, y_test = train_test_split(X, y, test_size=0.1, random_state=42)"
   ]
  },
  {
   "cell_type": "code",
   "execution_count": 8,
   "metadata": {},
   "outputs": [],
   "source": [
    "from transformers import DistilBertTokenizerFast\n",
    "tokenizer = DistilBertTokenizerFast.from_pretrained('distilbert-base-uncased')\n",
    "\n",
    "X_train = tokenizer(X_train, truncation=True, padding=True,max_length=30)\n",
    "X_test = tokenizer(X_test, truncation=True, padding=True,max_length = 30)"
   ]
  },
  {
   "cell_type": "code",
   "execution_count": 9,
   "metadata": {},
   "outputs": [
    {
     "data": {
      "text/plain": [
       "Encoding(num_tokens=30, attributes=[ids, type_ids, tokens, offsets, attention_mask, special_tokens_mask, overflowing])"
      ]
     },
     "execution_count": 9,
     "metadata": {},
     "output_type": "execute_result"
    }
   ],
   "source": [
    "X_train[1]"
   ]
  },
  {
   "cell_type": "code",
   "execution_count": 10,
   "metadata": {},
   "outputs": [],
   "source": [
    "X_train.update({'labels':y_train})\n",
    "X_test.update({'labels':y_test})"
   ]
  },
  {
   "cell_type": "code",
   "execution_count": 11,
   "metadata": {},
   "outputs": [
    {
     "data": {
      "text/plain": [
       "True"
      ]
     },
     "execution_count": 11,
     "metadata": {},
     "output_type": "execute_result"
    }
   ],
   "source": [
    "(X_train.labels[:5]==y_train[:5]).all()"
   ]
  },
  {
   "cell_type": "code",
   "execution_count": 12,
   "metadata": {},
   "outputs": [
    {
     "name": "stdout",
     "output_type": "stream",
     "text": [
      "['[CLS]', 'best', 'head', '##phones', '1000', 'pro', '##sso', '##und', 'quality', 'good', 'bass', '##de', '##cent', 'battery', 'life', '##com', '##es', 'aux', 'cable', '##con', '##sm', '##ic', 'poor', 'cannot', 'talk', 'low', 'voice', '[SEP]', '[PAD]', '[PAD]']\n",
      "[101, 2190, 2132, 19093, 6694, 4013, 24137, 8630, 3737, 2204, 3321, 3207, 13013, 6046, 2166, 9006, 2229, 19554, 5830, 8663, 6491, 2594, 3532, 3685, 2831, 2659, 2376, 102, 0, 0]\n",
      "[1, 1, 1, 1, 1, 1, 1, 1, 1, 1, 1, 1, 1, 1, 1, 1, 1, 1, 1, 1, 1, 1, 1, 1, 1, 1, 1, 1, 0, 0]\n"
     ]
    }
   ],
   "source": [
    "num = 3\n",
    "print(X_train[num].tokens)\n",
    "print(X_train[num].ids)\n",
    "print(X_train[num].attention_mask)"
   ]
  },
  {
   "cell_type": "code",
   "execution_count": 13,
   "metadata": {},
   "outputs": [
    {
     "data": {
      "text/plain": [
       "dict_keys(['input_ids', 'attention_mask', 'labels'])"
      ]
     },
     "execution_count": 13,
     "metadata": {},
     "output_type": "execute_result"
    }
   ],
   "source": [
    "X_train.keys()"
   ]
  },
  {
   "cell_type": "code",
   "execution_count": 14,
   "metadata": {},
   "outputs": [
    {
     "name": "stdout",
     "output_type": "stream",
     "text": [
      "[101, 12476, 4031, 3685, 2444, 2302, 2630, 19392, 7176, 12476, 102, 0, 0, 0, 0, 0, 0, 0, 0, 0, 0, 0, 0, 0, 0, 0, 0, 0, 0, 0]\n",
      "[101, 12476, 4031, 3685, 2444, 2302, 2630, 19392, 7176, 12476, 102, 0, 0, 0, 0, 0, 0, 0, 0, 0, 0, 0, 0, 0, 0, 0, 0, 0, 0, 0]\n",
      "Encoding(num_tokens=30, attributes=[ids, type_ids, tokens, offsets, attention_mask, special_tokens_mask, overflowing])\n"
     ]
    }
   ],
   "source": [
    "print(X_train.input_ids[0])\n",
    "print(X_train[0].ids)\n",
    "print(X_train[0])"
   ]
  },
  {
   "attachments": {},
   "cell_type": "markdown",
   "metadata": {},
   "source": [
    "### Torch dataset"
   ]
  },
  {
   "cell_type": "code",
   "execution_count": 15,
   "metadata": {},
   "outputs": [],
   "source": [
    "class FlipkartDataset(torch.utils.data.Dataset):\n",
    "    def __init__(self, encodings):\n",
    "        self.encodings = encodings\n",
    "\n",
    "    def __getitem__(self, idx):\n",
    "        return {key: torch.tensor(val[idx]) for key, val in self.encodings.items()}\n",
    "\n",
    "    def __len__(self):\n",
    "        return len(self.encodings.input_ids)\n",
    "\n",
    "train_dataset = FlipkartDataset(X_train)\n",
    "test_dataset = FlipkartDataset(X_test)"
   ]
  },
  {
   "attachments": {},
   "cell_type": "markdown",
   "metadata": {},
   "source": [
    "### Model"
   ]
  },
  {
   "cell_type": "code",
   "execution_count": 16,
   "metadata": {},
   "outputs": [],
   "source": [
    "from transformers import DistilBertForSequenceClassification\n",
    "import torch.nn as nn\n",
    "import torch.optim as optim"
   ]
  },
  {
   "cell_type": "code",
   "execution_count": 17,
   "metadata": {},
   "outputs": [
    {
     "name": "stderr",
     "output_type": "stream",
     "text": [
      "Some weights of the model checkpoint at distilbert-base-uncased were not used when initializing DistilBertForSequenceClassification: ['vocab_transform.bias', 'vocab_layer_norm.bias', 'vocab_projector.bias', 'vocab_projector.weight', 'vocab_transform.weight', 'vocab_layer_norm.weight']\n",
      "- This IS expected if you are initializing DistilBertForSequenceClassification from the checkpoint of a model trained on another task or with another architecture (e.g. initializing a BertForSequenceClassification model from a BertForPreTraining model).\n",
      "- This IS NOT expected if you are initializing DistilBertForSequenceClassification from the checkpoint of a model that you expect to be exactly identical (initializing a BertForSequenceClassification model from a BertForSequenceClassification model).\n",
      "Some weights of DistilBertForSequenceClassification were not initialized from the model checkpoint at distilbert-base-uncased and are newly initialized: ['pre_classifier.weight', 'classifier.bias', 'classifier.weight', 'pre_classifier.bias']\n",
      "You should probably TRAIN this model on a down-stream task to be able to use it for predictions and inference.\n"
     ]
    }
   ],
   "source": [
    "model = DistilBertForSequenceClassification.from_pretrained('distilbert-base-uncased', num_labels=5)\n",
    "criterion = nn.CrossEntropyLoss()\n",
    "optimizer = optim.Adam(model.parameters(), lr=0.1)"
   ]
  },
  {
   "cell_type": "code",
   "execution_count": 18,
   "metadata": {},
   "outputs": [
    {
     "name": "stdout",
     "output_type": "stream",
     "text": [
      "[False, False, False, False, False, False, False, False, False, False, False, False, False, False, False, False, False, False, False, False, False, False, False, False, False, False, False, False, False, False, False, False, False, False, False, False, False, False, False, False, False, False, False, False, False, False, False, False, False, False, False, False, False, False, False, False, False, False, False, False, False, False, False, False, False, False, False, False, False, False, False, False, False, False, False, False, False, False, False, False, False, False, False, False, False, False, False, False, False, False, False, False, False, False, False, False, False, False, False, False]\n",
      "[True, True]\n",
      "[True, True]\n"
     ]
    }
   ],
   "source": [
    "for layer in model.distilbert.parameters():\n",
    "    layer.requires_grad = False\n",
    "print([p.requires_grad for p in model.distilbert.parameters()])\n",
    "print([p.requires_grad for p in model.pre_classifier.parameters()])\n",
    "print([p.requires_grad for p in model.classifier.parameters()])"
   ]
  },
  {
   "cell_type": "code",
   "execution_count": 19,
   "metadata": {},
   "outputs": [],
   "source": [
    "n_epochs = 30\n",
    "batch_size = 16"
   ]
  },
  {
   "cell_type": "code",
   "execution_count": 20,
   "metadata": {},
   "outputs": [
    {
     "name": "stdout",
     "output_type": "stream",
     "text": [
      "Epoch 000: | Train Loss: 1.89108 | Train Accuracy: 0.558\n",
      "Epoch 000: | Test Loss: 1.12795 | Test Accuracy: 200.000\n",
      "Epoch 001: | Train Loss: 1.20952 | Train Accuracy: 0.571\n",
      "Epoch 001: | Test Loss: 1.12816 | Test Accuracy: 200.000\n",
      "Epoch 002: | Train Loss: 1.18745 | Train Accuracy: 0.571\n",
      "Epoch 002: | Test Loss: 1.12804 | Test Accuracy: 200.000\n",
      "Epoch 003: | Train Loss: 1.20875 | Train Accuracy: 0.570\n",
      "Epoch 003: | Test Loss: 1.12952 | Test Accuracy: 200.000\n",
      "Epoch 004: | Train Loss: 1.18251 | Train Accuracy: 0.571\n",
      "Epoch 004: | Test Loss: 1.12817 | Test Accuracy: 200.000\n",
      "Epoch 005: | Train Loss: 1.18262 | Train Accuracy: 0.571\n",
      "Epoch 005: | Test Loss: 1.12816 | Test Accuracy: 200.000\n",
      "Epoch 006: | Train Loss: 1.18267 | Train Accuracy: 0.571\n",
      "Epoch 006: | Test Loss: 1.12815 | Test Accuracy: 200.000\n",
      "Epoch 007: | Train Loss: 1.18270 | Train Accuracy: 0.571\n",
      "Epoch 007: | Test Loss: 1.12815 | Test Accuracy: 200.000\n",
      "Epoch 008: | Train Loss: 1.21224 | Train Accuracy: 0.570\n",
      "Epoch 008: | Test Loss: 1.12814 | Test Accuracy: 200.000\n",
      "Epoch 009: | Train Loss: 1.18268 | Train Accuracy: 0.571\n",
      "Epoch 009: | Test Loss: 1.12814 | Test Accuracy: 200.000\n",
      "Epoch 010: | Train Loss: 1.18270 | Train Accuracy: 0.571\n",
      "Epoch 010: | Test Loss: 1.12814 | Test Accuracy: 200.000\n",
      "Epoch 011: | Train Loss: 1.18272 | Train Accuracy: 0.571\n",
      "Epoch 011: | Test Loss: 1.12814 | Test Accuracy: 200.000\n",
      "Epoch 012: | Train Loss: 1.20702 | Train Accuracy: 0.571\n",
      "Epoch 012: | Test Loss: 1.12814 | Test Accuracy: 200.000\n",
      "Epoch 013: | Train Loss: 1.18268 | Train Accuracy: 0.571\n",
      "Epoch 013: | Test Loss: 1.12811 | Test Accuracy: 200.000\n",
      "Epoch 014: | Train Loss: 1.18288 | Train Accuracy: 0.571\n",
      "Epoch 014: | Test Loss: 1.12814 | Test Accuracy: 200.000\n",
      "Epoch 015: | Train Loss: 1.18273 | Train Accuracy: 0.571\n",
      "Epoch 015: | Test Loss: 1.12814 | Test Accuracy: 200.000\n",
      "Epoch 016: | Train Loss: 1.18274 | Train Accuracy: 0.571\n",
      "Epoch 016: | Test Loss: 1.12814 | Test Accuracy: 200.000\n",
      "Epoch 017: | Train Loss: 1.18274 | Train Accuracy: 0.571\n",
      "Epoch 017: | Test Loss: 1.12814 | Test Accuracy: 200.000\n",
      "Epoch 018: | Train Loss: 1.23903 | Train Accuracy: 0.571\n",
      "Epoch 018: | Test Loss: 1.12814 | Test Accuracy: 200.000\n",
      "Epoch 019: | Train Loss: 1.18274 | Train Accuracy: 0.571\n",
      "Epoch 019: | Test Loss: 1.12814 | Test Accuracy: 200.000\n",
      "Epoch 020: | Train Loss: 1.18274 | Train Accuracy: 0.571\n",
      "Epoch 020: | Test Loss: 1.12814 | Test Accuracy: 200.000\n",
      "Epoch 021: | Train Loss: 1.18267 | Train Accuracy: 0.571\n",
      "Epoch 021: | Test Loss: 1.12814 | Test Accuracy: 200.000\n",
      "Epoch 022: | Train Loss: 1.18274 | Train Accuracy: 0.571\n",
      "Epoch 022: | Test Loss: 1.12814 | Test Accuracy: 200.000\n",
      "Epoch 023: | Train Loss: 1.19256 | Train Accuracy: 0.571\n",
      "Epoch 023: | Test Loss: 1.12814 | Test Accuracy: 200.000\n",
      "Epoch 024: | Train Loss: 1.18706 | Train Accuracy: 0.571\n",
      "Epoch 024: | Test Loss: 1.12814 | Test Accuracy: 200.000\n",
      "Epoch 025: | Train Loss: 1.20021 | Train Accuracy: 0.571\n",
      "Epoch 025: | Test Loss: 1.12814 | Test Accuracy: 200.000\n",
      "Epoch 026: | Train Loss: 1.18273 | Train Accuracy: 0.571\n",
      "Epoch 026: | Test Loss: 1.12814 | Test Accuracy: 200.000\n",
      "Epoch 027: | Train Loss: 1.18273 | Train Accuracy: 0.571\n",
      "Epoch 027: | Test Loss: 1.12814 | Test Accuracy: 200.000\n",
      "Epoch 028: | Train Loss: 3.29611 | Train Accuracy: 0.570\n",
      "Epoch 028: | Test Loss: 1.12798 | Test Accuracy: 200.000\n",
      "Epoch 029: | Train Loss: 1.24957 | Train Accuracy: 0.571\n",
      "Epoch 029: | Test Loss: 1.12814 | Test Accuracy: 200.000\n"
     ]
    }
   ],
   "source": [
    "all_training_losses = []\n",
    "all_training_accuracies = []\n",
    "all_test_losses = []\n",
    "all_test_accuracies = []\n",
    "training_epoch_loss = []\n",
    "training_epoch_accuracy = []\n",
    "test_epoch_loss = []\n",
    "test_epoch_accuracy = []\n",
    "\n",
    "\n",
    "for epoch in range(n_epochs):\n",
    "    batch_loss = 0\n",
    "    batch_accuracy = 0\n",
    "    epoch_loss = 0\n",
    "    epoch_accuracy = 0\n",
    "\n",
    "    model.train()\n",
    "    for i in range(0,len(train_dataset), batch_size):\n",
    "        batch = train_dataset[i:i+batch_size]\n",
    "        \n",
    "        optimizer.zero_grad()\n",
    "        \n",
    "        outputs = model(batch['input_ids'], batch['attention_mask'])\n",
    "        \n",
    "        loss = criterion(outputs.logits, torch.max(batch['labels'], 1)[1])\n",
    "\n",
    "        batch_loss = loss.item()\n",
    "        batch_accuracy = (torch.max(outputs.logits, 1)[1] == torch.max(batch['labels'], 1)[1]).sum().item()/batch_size\n",
    "\n",
    "        all_training_losses.append(batch_loss)\n",
    "        all_training_accuracies.append(batch_accuracy)\n",
    "        epoch_loss += batch_loss\n",
    "        epoch_accuracy += batch_accuracy\n",
    "\n",
    "        loss.backward()\n",
    "        optimizer.step()\n",
    "    training_epoch_loss.append(epoch_loss/(len(train_dataset)/batch_size))\n",
    "    training_epoch_accuracy.append(epoch_accuracy/(len(train_dataset)/batch_size))\n",
    "\n",
    "    print(f'Epoch {epoch+0:03}: | Train Loss: {epoch_loss/(len(train_dataset)/batch_size):.5f} | Train Accuracy: {epoch_accuracy/(len(train_dataset)/batch_size):.3f}')\n",
    "\n",
    "    # model.eval()\n",
    "    with torch.no_grad():\n",
    "        outputs = model(test_dataset[:]['input_ids'], test_dataset[:]['attention_mask'])\n",
    "        loss = criterion(outputs.logits, torch.max(test_dataset[:]['labels'], 1)[1])\n",
    "        test_epoch_loss.append(loss.item())\n",
    "        test_epoch_accuracy.append((torch.max(outputs.logits, 1)[1] == torch.max(test_dataset[:]['labels'], 1)[1]).sum().item()/len(X_test))\n",
    "    print(f'Epoch {epoch+0:03}: | Test Loss: {test_epoch_loss[-1]:.5f} | Test Accuracy: {test_epoch_accuracy[-1]:.3f}')"
   ]
  },
  {
   "cell_type": "code",
   "execution_count": 21,
   "metadata": {},
   "outputs": [
    {
     "data": {
      "image/png": "[encoded data removed]",
      "text/plain": [
       "<Figure size 640x480 with 1 Axes>"
      ]
     },
     "metadata": {},
     "output_type": "display_data"
    }
   ],
   "source": [
    "import matplotlib.pyplot as plt\n",
    "plt.plot(training_epoch_loss, label='Training Loss')\n",
    "plt.plot(test_epoch_loss, label='Test Loss')\n",
    "plt.legend();"
   ]
  },
  {
   "cell_type": "code",
   "execution_count": 22,
   "metadata": {},
   "outputs": [
    {
     "data": {
      "image/png": "[encoded data removed]",
      "text/plain": [
       "<Figure size 640x480 with 1 Axes>"
      ]
     },
     "metadata": {},
     "output_type": "display_data"
    }
   ],
   "source": [
    "import matplotlib.pyplot as plt\n",
    "plt.plot(all_training_losses, label='Training Loss');\n",
    "# plt.plot(test_epoch_loss, label='Test Loss');"
   ]
  },
  {
   "cell_type": "code",
   "execution_count": 23,
   "metadata": {},
   "outputs": [
    {
     "data": {
      "text/plain": [
       "(16860, 30)"
      ]
     },
     "execution_count": 23,
     "metadata": {},
     "output_type": "execute_result"
    }
   ],
   "source": [
    "len(all_training_losses), len(training_epoch_loss)"
   ]
  },
  {
   "cell_type": "code",
   "execution_count": 25,
   "metadata": {},
   "outputs": [
    {
     "data": {
      "text/plain": [
       "DistilBertModel(\n",
       "  (embeddings): Embeddings(\n",
       "    (word_embeddings): Embedding(30522, 768, padding_idx=0)\n",
       "    (position_embeddings): Embedding(512, 768)\n",
       "    (LayerNorm): LayerNorm((768,), eps=1e-12, elementwise_affine=True)\n",
       "    (dropout): Dropout(p=0.1, inplace=False)\n",
       "  )\n",
       "  (transformer): Transformer(\n",
       "    (layer): ModuleList(\n",
       "      (0-5): 6 x TransformerBlock(\n",
       "        (attention): MultiHeadSelfAttention(\n",
       "          (dropout): Dropout(p=0.1, inplace=False)\n",
       "          (q_lin): Linear(in_features=768, out_features=768, bias=True)\n",
       "          (k_lin): Linear(in_features=768, out_features=768, bias=True)\n",
       "          (v_lin): Linear(in_features=768, out_features=768, bias=True)\n",
       "          (out_lin): Linear(in_features=768, out_features=768, bias=True)\n",
       "        )\n",
       "        (sa_layer_norm): LayerNorm((768,), eps=1e-12, elementwise_affine=True)\n",
       "        (ffn): FFN(\n",
       "          (dropout): Dropout(p=0.1, inplace=False)\n",
       "          (lin1): Linear(in_features=768, out_features=3072, bias=True)\n",
       "          (lin2): Linear(in_features=3072, out_features=768, bias=True)\n",
       "          (activation): GELUActivation()\n",
       "        )\n",
       "        (output_layer_norm): LayerNorm((768,), eps=1e-12, elementwise_affine=True)\n",
       "      )\n",
       "    )\n",
       "  )\n",
       ")"
      ]
     },
     "execution_count": 25,
     "metadata": {},
     "output_type": "execute_result"
    }
   ],
   "source": [
    "model.distilbert"
   ]
  },
  {
   "attachments": {},
   "cell_type": "markdown",
   "metadata": {},
   "source": [
    "### END"
   ]
  }
 ],
 "metadata": {
  "kernelspec": {
   "display_name": "my_env",
   "language": "python",
   "name": "python3"
  },
  "language_info": {
   "codemirror_mode": {
    "name": "ipython",
    "version": 3
   },
   "file_extension": ".py",
   "mimetype": "text/x-python",
   "name": "python",
   "nbconvert_exporter": "python",
   "pygments_lexer": "ipython3",
   "version": "3.10.11"
  },
  "orig_nbformat": 4
 },
 "nbformat": 4,
 "nbformat_minor": 2
}
